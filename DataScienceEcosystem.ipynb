{
 "cells": [
  {
   "cell_type": "markdown",
   "id": "fb53fab0-c07e-4198-8ccb-59fc4d3bbbbe",
   "metadata": {},
   "source": [
    "# Data Science Tools and Ecosystem"
   ]
  },
  {
   "cell_type": "markdown",
   "id": "87629052-299b-436c-a880-4629a34e6467",
   "metadata": {},
   "source": [
    "In this notebook, Data Science Tools and Ecosystem are summarized."
   ]
  },
  {
   "cell_type": "markdown",
   "id": "6561ad9f-cddc-4a98-91cb-abb52b3bb961",
   "metadata": {},
   "source": [
    "**Objectives**"
   ]
  },
  {
   "cell_type": "markdown",
   "id": "f719234d-13cb-44cb-af18-cb722d8b3113",
   "metadata": {},
   "source": [
    "- List languages for Data Science\n",
    "- List commonly used Libraries in Data Science\n",
    "- List Data science tools\n",
    "- Examples of Arithmetic Expressions in Python"
   ]
  },
  {
   "cell_type": "markdown",
   "id": "7e6e368f-768f-4dfb-91ab-3b232740bc3c",
   "metadata": {},
   "source": [
    "Some of the popular languages that Data Scientists use are:"
   ]
  },
  {
   "cell_type": "markdown",
   "id": "6c19c9a1-311f-4c64-b551-02a46ba3a9f9",
   "metadata": {},
   "source": [
    "1. Python\n",
    "2. R\n",
    "3. SQL\n",
    "4. Matlab\n",
    "5. Scala\n",
    "6. Julia"
   ]
  },
  {
   "cell_type": "markdown",
   "id": "bd85947e-5167-4f4d-ab08-423a3a6e1c4c",
   "metadata": {},
   "source": [
    "Some of the commonly used libraries used by Data Scientists include:"
   ]
  },
  {
   "cell_type": "markdown",
   "id": "a55c1c4f-6651-4ac9-ada5-d679c719b1e7",
   "metadata": {},
   "source": [
    "1. NumPy\n",
    "2. SciPy\n",
    "3. Matplotlib\n",
    "4. PyTorch\n",
    "5. Keras\n",
    "6. Pandas"
   ]
  },
  {
   "cell_type": "markdown",
   "id": "9521ce04-9b09-4cb8-8c3e-40a8cdcdc452",
   "metadata": {},
   "source": [
    "Data Science Tools."
   ]
  },
  {
   "cell_type": "markdown",
   "id": "d39a8fd9-190b-495d-a99a-8df1da2aef42",
   "metadata": {},
   "source": [
    "|Data Science Tools|\n",
    "|------------------|\n",
    "|RStudio|\n",
    "|Apache Spark|\n",
    "|TensorFlow|"
   ]
  },
  {
   "cell_type": "markdown",
   "id": "6f8a8921-322a-4b6e-bec9-6b583e12a75b",
   "metadata": {},
   "source": [
    "### Below are a few examples of evaluating arithmetic expressions in Python"
   ]
  },
  {
   "cell_type": "markdown",
   "id": "7ce97687-477d-4ae6-9984-7e9e65c53d89",
   "metadata": {},
   "source": [
    "*This is a simple arithmetic expression to multiply then add integers*"
   ]
  },
  {
   "cell_type": "code",
   "execution_count": 6,
   "id": "58d97c77-f8f5-4ef9-98b5-a19b2caeafee",
   "metadata": {},
   "outputs": [
    {
     "data": {
      "text/plain": [
       "17"
      ]
     },
     "execution_count": 6,
     "metadata": {},
     "output_type": "execute_result"
    }
   ],
   "source": [
    "(3*4)+5"
   ]
  },
  {
   "cell_type": "markdown",
   "id": "c4d84ef9-391a-401e-8159-0605d45f633f",
   "metadata": {},
   "source": [
    "*This will convert 200 minutes to hours by dividing by 60*"
   ]
  },
  {
   "cell_type": "code",
   "execution_count": 7,
   "id": "de855cc9-7792-4b4a-a61b-eaeaf0091110",
   "metadata": {},
   "outputs": [
    {
     "name": "stdout",
     "output_type": "stream",
     "text": [
      "3\n"
     ]
    }
   ],
   "source": [
    "print (round(200/60))"
   ]
  },
  {
   "cell_type": "markdown",
   "id": "79a81ffc-9435-49c7-bb15-453fa3b5083e",
   "metadata": {},
   "source": [
    "## Author"
   ]
  },
  {
   "cell_type": "markdown",
   "id": "57c1d969-0583-4556-aee1-d59adb00909b",
   "metadata": {},
   "source": [
    "Gopinatha Pillai Ashok."
   ]
  }
 ],
 "metadata": {
  "kernelspec": {
   "display_name": "Python",
   "language": "python",
   "name": "conda-env-python-py"
  },
  "language_info": {
   "codemirror_mode": {
    "name": "ipython",
    "version": 3
   },
   "file_extension": ".py",
   "mimetype": "text/x-python",
   "name": "python",
   "nbconvert_exporter": "python",
   "pygments_lexer": "ipython3",
   "version": "3.7.12"
  }
 },
 "nbformat": 4,
 "nbformat_minor": 5
}
